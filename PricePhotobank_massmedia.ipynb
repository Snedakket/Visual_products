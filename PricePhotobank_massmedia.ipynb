{
 "cells": [
  {
   "cell_type": "code",
   "execution_count": null,
   "id": "581a447a",
   "metadata": {},
   "outputs": [],
   "source": [
    "import pandas as pd\n",
    "import numpy as np\n",
    "import seaborn as sns\n",
    "import matplotlib.pyplot as plt\n",
    "\n",
    "pd.options.mode.copy_on_write = True #При копировании данных происходит только копирование указателя на данные, \n",
    "                                     #оригинал и копия ссылаются на одни и те же данные\n",
    "\n",
    "fmm1 = pd.read_csv(\"/Users/matveeva_oa/Documents/Price2024/fmm1.csv\", on_bad_lines='skip', delimiter=',', index_col=0)\n",
    "\n",
    "pd.set_option('display.max_rows', None) \n",
    "pd.set_option ('display.max_columns', None)\n",
    "fmm1"
   ]
  },
  {
   "cell_type": "code",
   "execution_count": null,
   "id": "fd76e966",
   "metadata": {},
   "outputs": [],
   "source": [
    "fmm1[['1', '10', '20', '30', '40', '50', '60', '70', '80', '90', '100']] = fmm1[['1', '10', '20', '30', '40', '50', '60', '70', '80', '90', '100']].replace(',', '', regex=True)\n",
    "fmm1[['1', '10', '20', '30', '40', '50', '60', '70', '80', '90', '100']] = fmm1[['1', '10', '20', '30', '40', '50', '60', '70', '80', '90', '100']].astype(float)\n",
    "\n",
    "fmm1.describe()"
   ]
  },
  {
   "cell_type": "code",
   "execution_count": null,
   "id": "ecc09e30",
   "metadata": {},
   "outputs": [],
   "source": [
    "with plt.xkcd():\n",
    "   \n",
    " plt.figure(figsize=(40, 10), dpi=200)\n",
    "    \n",
    " plt.hist(fmm1['1'], label='1 штука', histtype='step', color='silver', linewidth=13.0, density=False)\n",
    " plt.hist(fmm1['10'], label='10 штук', histtype='barstacked', color='olive', rwidth=1, density=False)\n",
    " plt.hist(fmm1['20'], label='20 штук', histtype='barstacked', color='skyblue', rwidth=1, density=False)\n",
    " plt.hist(fmm1['30'], label='30 штук', histtype='step', color='blue', linewidth=7.0, density=False)\n",
    " plt.hist(fmm1['40'], label='40 штук', histtype='barstacked', color='red', rwidth=1, density=False)\n",
    " plt.hist(fmm1['50'], label='50 штук', histtype='step', color='darkorange', linewidth=8.0, density=False)\n",
    " plt.hist(fmm1['60'], label='60 штук', histtype='barstacked', color='lawngreen', rwidth=1, density=False)\n",
    " plt.hist(fmm1['70'], label='70 штук', histtype='barstacked', color='gold', rwidth=1, density=False)\n",
    " plt.hist(fmm1['80'], label='80 штук', histtype='step', color='purple', linewidth=8.0, density=False)\n",
    " plt.hist(fmm1['90'], label='90 штук', histtype='step', color='coral', linewidth=7.0, density=False)\n",
    " plt.hist(fmm1['100'], label='100 штук', histtype='barstacked', color='navy', rwidth=1, density=False)\n",
    "\n",
    " plt.xticks(np.arange(2000, 140000, 7000), size=15) \n",
    " plt.legend(loc=\"upper right\", fontsize=15)\n",
    " plt.xlabel('Стоимость', size=20)\n",
    " plt.yticks([])\n",
    " plt.title('Фотобанк СМИ. Распределение стоимости:фед. СМИ - инф. порталы, рег. СМИ -телеканалы и инф порталы, видео репортажи ТАСС и партнерские;фед. СМИ - телеканалы, корп. клиенты, видео репортажи ТАСС и партнерские',\n",
    "          size=20)\n",
    " plt.savefig('/Users/matveeva_oa/Documents/Price2024/fmm1.svg')"
   ]
  },
  {
   "cell_type": "code",
   "execution_count": null,
   "id": "a58fbacb",
   "metadata": {},
   "outputs": [],
   "source": [
    "total_cells = np.product(fmm1.shape)\n",
    "uniques1 = pd.unique(fmm1[['1', '10', '20', '30', '40', '50', '60', '70', '80', '90', '100']]. values.ravel ())\n",
    "\n",
    "print(\"Общее количество вариантов цен по категориям - фед. СМИ - инф. порталы, рег. СМИ -телеканалы и инф порталы, видео репортажи ТАСС и партнерские;фед. СМИ - телеканалы, корп. клиенты, видео репортажи ТАСС и партнерские - \", total_cells)\n",
    "print(\"Уникальные значения вариантов цен по категориям - фед. СМИ - инф. порталы, рег. СМИ -телеканалы и инф порталы, видео репортажи ТАСС и партнерские;фед. СМИ - телеканалы, корп. клиенты, видео репортажи ТАСС и партнерские -\", len (uniques1))"
   ]
  },
  {
   "cell_type": "code",
   "execution_count": null,
   "id": "10071384",
   "metadata": {},
   "outputs": [],
   "source": [
    "fmm1['min'] = fmm1.min(axis=1)\n",
    "fmm1['max'] = fmm1.max(axis=1)\n",
    "fmm1['price diff in %']= 100 - (fmm1['min'] / fmm1['max'])*100\n",
    "fmm1['quantile 25%'] =np.percentile(fmm1, 25, axis=1)\n",
    "fmm1['mediana'] =np.percentile(fmm1, 50, axis=1)\n",
    "fmm1['quantile 75%'] =np.percentile(fmm1, 75, axis=1)\n",
    "\n",
    "fmm1copy=fmm1.copy(deep=True)\n",
    "fmm1copy.drop(['1', '10', '20', '30', '40', '50', '60', '70', '80', '90', '100'], axis= 1 , inplace= True )\n",
    "fmm1copy"
   ]
  },
  {
   "cell_type": "code",
   "execution_count": null,
   "id": "44867303",
   "metadata": {},
   "outputs": [],
   "source": [
    "fmm2 = pd.read_csv(\"/Users/matveeva_oa/Documents/Price2024/fmm2.csv\", on_bad_lines='skip', delimiter=',', index_col=0)\n",
    "\n",
    "pd.set_option('display.max_rows', None) \n",
    "pd.set_option ('display.max_columns', None)\n",
    "fmm2"
   ]
  },
  {
   "cell_type": "code",
   "execution_count": null,
   "id": "7425b707",
   "metadata": {},
   "outputs": [],
   "source": [
    "fmm2[['до 900 pix вкл', 'до 1200 pix вкл', 'до 3000 pix вкл']] = fmm2[['до 900 pix вкл', 'до 1200 pix вкл', 'до 3000 pix вкл']].replace(',', '', regex=True)\n",
    "fmm2[['до 900 pix вкл', 'до 1200 pix вкл', 'до 3000 pix вкл']] = fmm2[['до 900 pix вкл', 'до 1200 pix вкл', 'до 3000 pix вкл']].astype(float)\n",
    "\n",
    "fmm2.describe()"
   ]
  },
  {
   "cell_type": "code",
   "execution_count": null,
   "id": "ebd01676",
   "metadata": {},
   "outputs": [],
   "source": [
    "with plt.xkcd():\n",
    "   \n",
    " plt.figure(figsize=(40, 10), dpi=200)\n",
    "    \n",
    " plt.hist(fmm2['до 900 pix вкл'], label='до 900 pix вкл', histtype='step', color='silver', linewidth=25.0, density=False)\n",
    " plt.hist(fmm2['до 1200 pix вкл'], label='до 1200 pix вкл', histtype='step', color='red', linewidth=10.0, density=False)\n",
    " plt.hist(fmm2['до 3000 pix вкл'], label='до 3000 pix вкл', histtype='barstacked', color='blue', density=False)\n",
    "\n",
    " plt.xticks(np.arange(500, 245000, 20000), size=15) \n",
    " plt.legend(loc=\"upper right\", fontsize=15)\n",
    " plt.xlabel('Стоимость', size=20)\n",
    " plt.yticks([])\n",
    " plt.title('Фотобанк СМИ.Фотоконтент: публикации-лента новостей и пакетные предложения для СМИ',\n",
    "          size=20)\n",
    " plt.savefig('/Users/matveeva_oa/Documents/Price2024/fmm2.svg')"
   ]
  },
  {
   "cell_type": "code",
   "execution_count": null,
   "id": "bc7f0892",
   "metadata": {},
   "outputs": [],
   "source": [
    "total_cells = np.product(fmm2.shape)\n",
    "uniques2 = pd.unique(fmm2[['до 900 pix вкл', 'до 1200 pix вкл', 'до 3000 pix вкл']]. values.ravel ())\n",
    "\n",
    "print(\"Общее количество вариантов цен по категориям -  Фотоконтент: публикации-лента новостей и пакетные предложения для СМИ - \", total_cells)\n",
    "print(\"Уникальные значения вариантов цен по категориям - Фотоконтент: публикации-лента новостей и пакетные предложения для СМИ -\", len (uniques2))"
   ]
  },
  {
   "cell_type": "code",
   "execution_count": null,
   "id": "5326b7be",
   "metadata": {},
   "outputs": [],
   "source": [
    "fmm2['min'] = fmm2.min(axis=1)\n",
    "fmm2['max'] = fmm2.max(axis=1)\n",
    "fmm2['price diff in %']= 100 - (fmm2['min'] / fmm2['max'])*100\n",
    "fmm2['quantile 25%'] =np.percentile(fmm2, 25, axis=1)\n",
    "fmm2['mediana'] =np.percentile(fmm2, 50, axis=1)\n",
    "fmm2['quantile 75%'] =np.percentile(fmm2, 75, axis=1)\n",
    "\n",
    "fmm2copy=fmm2.copy(deep=True)\n",
    "fmm2copy.drop(['до 900 pix вкл', 'до 1200 pix вкл', 'до 3000 pix вкл'], axis= 1 , inplace= True )\n",
    "fmm2copy"
   ]
  },
  {
   "cell_type": "code",
   "execution_count": null,
   "id": "50135c98",
   "metadata": {},
   "outputs": [],
   "source": [
    "fmm3 = pd.read_csv(\"/Users/matveeva_oa/Documents/Price2024/fmm3.csv\", on_bad_lines='skip', delimiter=',', index_col=0)\n",
    "\n",
    "pd.set_option('display.max_rows', None) \n",
    "pd.set_option ('display.max_columns', None)\n",
    "fmm3"
   ]
  },
  {
   "cell_type": "code",
   "execution_count": null,
   "id": "3a4c8923",
   "metadata": {},
   "outputs": [],
   "source": [
    "fmm3[['До 3,5 x 4,5 см', 'До 7,5 x 10,5 см', 'До 10,5 x 15 см', 'До 15 x 21 см', 'До 21 x 30 см', 'До 30 x 421 см']] = fmm3[['До 3,5 x 4,5 см', 'До 7,5 x 10,5 см', 'До 10,5 x 15 см', 'До 15 x 21 см', 'До 21 x 30 см', 'До 30 x 421 см']].replace(',', '', regex=True)\n",
    "fmm3[['До 3,5 x 4,5 см', 'До 7,5 x 10,5 см', 'До 10,5 x 15 см', 'До 15 x 21 см', 'До 21 x 30 см', 'До 30 x 421 см']] = fmm3[['До 3,5 x 4,5 см', 'До 7,5 x 10,5 см', 'До 10,5 x 15 см', 'До 15 x 21 см', 'До 21 x 30 см', 'До 30 x 421 см']].astype(float)\n",
    "\n",
    "fmm3.describe()"
   ]
  },
  {
   "cell_type": "code",
   "execution_count": null,
   "id": "cec0874d",
   "metadata": {},
   "outputs": [],
   "source": [
    "with plt.xkcd():\n",
    "   \n",
    " plt.figure(figsize=(40, 10), dpi=200)\n",
    "    \n",
    " plt.hist(fmm3['До 3,5 x 4,5 см'], label='До 3,5 x 4,5 см', histtype='step', color='silver', linewidth=25.0, density=False)\n",
    " plt.hist(fmm3['До 7,5 x 10,5 см'], label='До 7,5 x 10,5 см', histtype='step', color='red', linewidth=10.0, density=False)\n",
    " plt.hist(fmm3['До 10,5 x 15 см'], label='До 10,5 x 15 см', histtype='barstacked', color='blue', rwidth=1, density=False)\n",
    " plt.hist(fmm3['До 15 x 21 см'], label='До 15 x 21 см', histtype='barstacked', color='green', rwidth=1, density=False)\n",
    " plt.hist(fmm3['До 21 x 30 см'], label='До 21 x 30 см', histtype='barstacked', color='orange', rwidth=1, density=False)\n",
    " plt.hist(fmm3['До 30 x 421 см'], label='До 30 x 421 см', histtype='barstacked', color='purple', rwidth=1, density=False)\n",
    "\n",
    " plt.xticks(np.arange(500, 4000, 100), size=15) \n",
    " plt.legend(loc=\"upper right\", fontsize=15)\n",
    " plt.xlabel('Стоимость', size=20)\n",
    " plt.yticks([])\n",
    " plt.title('Фотобанк СМИ.Использование в газетах', size=20)\n",
    " plt.savefig('/Users/matveeva_oa/Documents/Price2024/fmm3.svg')"
   ]
  },
  {
   "cell_type": "code",
   "execution_count": null,
   "id": "b5f0cd2e",
   "metadata": {},
   "outputs": [],
   "source": [
    "total_cells = np.product(fmm3.shape)\n",
    "uniques3 = pd.unique(fmm3[['До 3,5 x 4,5 см', 'До 7,5 x 10,5 см', 'До 10,5 x 15 см', 'До 15 x 21 см', 'До 21 x 30 см', 'До 30 x 421 см']]. values.ravel ())\n",
    "\n",
    "print(\"Общее количество вариантов цен по категориям -  Использование в газетах - \", total_cells)\n",
    "print(\"Уникальные значения вариантов цен по категориям - Использование в газетах -\", len (uniques3))"
   ]
  },
  {
   "cell_type": "code",
   "execution_count": null,
   "id": "1a9cd064",
   "metadata": {},
   "outputs": [],
   "source": [
    "fmm3['min'] = fmm3.min(axis=1)\n",
    "fmm3['max'] = fmm3.max(axis=1)\n",
    "fmm3['price diff in %']= 100 - (fmm3['min'] / fmm3['max'])*100\n",
    "fmm3['quantile 25%'] =np.percentile(fmm3, 25, axis=1)\n",
    "fmm3['mediana'] =np.percentile(fmm3, 50, axis=1)\n",
    "fmm3['quantile 75%'] =np.percentile(fmm3, 75, axis=1)\n",
    "\n",
    "fmm3copy=fmm3.copy(deep=True)\n",
    "fmm3copy.drop(['До 3,5 x 4,5 см', 'До 7,5 x 10,5 см', 'До 10,5 x 15 см', 'До 15 x 21 см', 'До 21 x 30 см', 'До 30 x 421 см'], axis= 1 , inplace= True )\n",
    "fmm3copy"
   ]
  },
  {
   "cell_type": "code",
   "execution_count": null,
   "id": "3d09c32a",
   "metadata": {},
   "outputs": [],
   "source": [
    "fmm4 = pd.read_csv(\"/Users/matveeva_oa/Documents/Price2024/fmm4.csv\", on_bad_lines='skip', delimiter=',', index_col=0)\n",
    "\n",
    "pd.set_option('display.max_rows', None) \n",
    "pd.set_option ('display.max_columns', None)\n",
    "fmm4"
   ]
  },
  {
   "cell_type": "code",
   "execution_count": null,
   "id": "4b6dead0",
   "metadata": {},
   "outputs": [],
   "source": [
    "row_names = {\n",
    "            'Price ?? ???????':'Стоимость за единицу',\n",
    "            'Price ?? ??????? ????????':'Стоимость за единицу партнеры',\n",
    "            'Price ?? ??????? ???????':'Стоимость за единицу обложка'}\n",
    "\n",
    "fmm4 = fmm4.rename(index = row_names)\n",
    "fmm4"
   ]
  },
  {
   "cell_type": "code",
   "execution_count": null,
   "id": "9af2c67e",
   "metadata": {},
   "outputs": [],
   "source": [
    "fmm4[['1/8', '1/4', '1/2', '1/1', '2/1']] = fmm4[['1/8', '1/4', '1/2', '1/1', '2/1']].replace(',', '', regex=True)\n",
    "fmm4[['1/8', '1/4', '1/2', '1/1', '2/1']] = fmm4[['1/8', '1/4', '1/2', '1/1', '2/1']].astype(float)\n",
    "\n",
    "fmm4.describe()"
   ]
  },
  {
   "cell_type": "code",
   "execution_count": null,
   "id": "02280df1",
   "metadata": {},
   "outputs": [],
   "source": [
    "with plt.xkcd():\n",
    "   \n",
    " plt.figure(figsize=(40, 10), dpi=200)\n",
    "    \n",
    " plt.hist(fmm4['1/8'], label='1/8', histtype='step', color='silver', linewidth=15.0, density=False)\n",
    " plt.hist(fmm4['1/4'], label='1/4', histtype='step', color='red', linewidth=8.0, density=False)\n",
    " plt.hist(fmm4['1/2'], label='1/2', histtype='barstacked', color='blue', rwidth=1, density=False)\n",
    " plt.hist(fmm4['1/1'], label='1/1', histtype='barstacked', color='olive', rwidth=1, density=False)\n",
    " plt.hist(fmm4['2/1'], label='2/1', histtype='barstacked', color='purple', rwidth=1, density=False)\n",
    " \n",
    " plt.xticks(np.arange(700, 4200, 100), size=15) \n",
    " plt.legend(loc=\"upper right\", fontsize=15)\n",
    " plt.xlabel('Стоимость', size=20)\n",
    " plt.yticks([])\n",
    " plt.title('Фотобанк СМИ.Размер публикации - не партнеры, партнеры, обложка',\n",
    "          size=20)\n",
    " plt.savefig('/Users/matveeva_oa/Documents/Price2024/fmm4.svg')"
   ]
  },
  {
   "cell_type": "code",
   "execution_count": null,
   "id": "beadd655",
   "metadata": {},
   "outputs": [],
   "source": [
    "total_cells = np.product(fmm4.shape)\n",
    "uniques4 = pd.unique(fmm4[['1/8', '1/4', '1/2', '1/1', '2/1']]. values.ravel ())\n",
    "\n",
    "print(\"Общее количество вариантов цен по категориям -  Размер публикации: не партнеры, партнеры, обложка - \", total_cells)\n",
    "print(\"Уникальные значения вариантов цен по категориям - Размер публикации: не партнеры, партнеры, обложка -\", len (uniques4))"
   ]
  },
  {
   "cell_type": "code",
   "execution_count": null,
   "id": "cc7f38c0",
   "metadata": {},
   "outputs": [],
   "source": [
    "fmm4['min'] = fmm4.min(axis=1)\n",
    "fmm4['max'] = fmm4.max(axis=1)\n",
    "fmm4['price diff in %']= 100 - (fmm4['min'] / fmm4['max'])*100\n",
    "fmm4['quantile 25%'] =np.percentile(fmm4, 25, axis=1)\n",
    "fmm4['mediana'] =np.percentile(fmm4, 50, axis=1)\n",
    "fmm4['quantile 75%'] =np.percentile(fmm4, 75, axis=1)\n",
    "\n",
    "fmm4copy=fmm4.copy(deep=True)\n",
    "fmm4copy.drop(['1/8', '1/4', '1/2', '1/1', '2/1'], axis= 1 , inplace= True )\n",
    "fmm4copy"
   ]
  },
  {
   "cell_type": "code",
   "execution_count": null,
   "id": "ff0435d6",
   "metadata": {},
   "outputs": [],
   "source": [
    "fmm5 = pd.read_csv(\"/Users/matveeva_oa/Documents/Price2024/fmm5.csv\", on_bad_lines='skip', delimiter=',', index_col=0)\n",
    "\n",
    "pd.set_option('display.max_rows', None) \n",
    "pd.set_option ('display.max_columns', None)\n",
    "fmm5"
   ]
  },
  {
   "cell_type": "code",
   "execution_count": null,
   "id": "e98c5b5b",
   "metadata": {},
   "outputs": [],
   "source": [
    "fmm5_1 = fmm5.dropna()\n",
    "fmm5_1"
   ]
  },
  {
   "cell_type": "code",
   "execution_count": null,
   "id": "0da50d95",
   "metadata": {},
   "outputs": [],
   "source": [
    "fmm5_1[['Стоимость за единицу', 'Стоимость за единицу партнеры']] = fmm5_1[['Стоимость за единицу', 'Стоимость за единицу партнеры']].replace(',', '', regex=True)\n",
    "fmm5_1[['Стоимость за единицу', 'Стоимость за единицу партнеры']] = fmm5_1[['Стоимость за единицу', 'Стоимость за единицу партнеры']].astype(float)\n",
    "\n",
    "fmm5_1.describe()"
   ]
  },
  {
   "cell_type": "code",
   "execution_count": null,
   "id": "3d1cd228",
   "metadata": {},
   "outputs": [],
   "source": [
    "with plt.xkcd():\n",
    "   \n",
    " plt.figure(figsize=(40, 10), dpi=200)\n",
    "    \n",
    " plt.hist(fmm5_1['Стоимость за единицу'], label='Стоимость за единицу', histtype='barstacked', color='olive', rwidth=1, density=False)\n",
    " plt.hist(fmm5_1['Стоимость за единицу партнеры'], label='Стоимость за единицу партнеры', histtype='barstacked', color='red', rwidth=1, density=False)\n",
    " \n",
    " plt.xticks(np.arange(900, 2000, 100), size=15) \n",
    " plt.legend(loc=\"upper right\", fontsize=15)\n",
    " plt.xlabel('Стоимость', size=20)\n",
    " plt.yticks([])\n",
    " plt.title('Фотобанк СМИ.Разовое скачивание -фед. СМИ - инф. порталы-рег. СМИ, телеканалы и инф. Порталы Разовое скач. -рег. СМИ телеканалы и инф порталы',\n",
    "          size=20)\n",
    " plt.savefig('/Users/matveeva_oa/Documents/Price2024/fmm5.svg')"
   ]
  },
  {
   "cell_type": "code",
   "execution_count": null,
   "id": "7596b0b4",
   "metadata": {},
   "outputs": [],
   "source": [
    "total_cells = np.product(fmm5_1.shape)\n",
    "uniques5 = pd.unique(fmm5_1[['Стоимость за единицу', 'Стоимость за единицу партнеры']]. values.ravel ())\n",
    "\n",
    "print(\"Общее количество вариантов цен по категориям - Разовое скачивание -фед. СМИ - инф. порталы-рег. СМИ, телеканалы и инф. Порталы Разовое скач. -рег. СМИ телеканалы и инф порталы  - \", total_cells)\n",
    "print(\"Уникальные значения вариантов цен по категориям - Разовое скачивание -фед. СМИ - инф. порталы-рег. СМИ, телеканалы и инф. Порталы Разовое скач. -рег. СМИ телеканалы и инф порталы  - \", len (uniques5))"
   ]
  },
  {
   "cell_type": "code",
   "execution_count": null,
   "id": "e141c14e",
   "metadata": {},
   "outputs": [],
   "source": [
    "fmm5_1['min'] = fmm5_1.min(axis=1)\n",
    "fmm5_1['max'] = fmm5_1.max(axis=1)\n",
    "fmm5_1['price diff in %']= 100 - (fmm5_1['min'] / fmm5_1['max'])*100\n",
    "fmm5_1['quantile 25%'] =np.percentile(fmm5_1, 25, axis=1)\n",
    "fmm5_1['mediana'] =np.percentile(fmm5_1, 50, axis=1)\n",
    "fmm5_1['quantile 75%'] =np.percentile(fmm5_1, 75, axis=1)\n",
    "\n",
    "fmm5_1copy=fmm5_1.copy(deep=True)\n",
    "fmm5_1copy.drop(['Стоимость за единицу', 'Стоимость за единицу партнеры'], axis= 1 , inplace= True )\n",
    "fmm5_1copy"
   ]
  },
  {
   "cell_type": "code",
   "execution_count": null,
   "id": "9de010b9",
   "metadata": {},
   "outputs": [],
   "source": [
    "fmmgen=pd.concat([fmm1, fmm2, fmm3, fmm4, fmm5_1], sort=False, axis=0)\n",
    "fmmgen.drop(['min', 'max', 'price diff in %', 'quantile 25%', 'mediana', 'quantile 75%'], axis= 1 , inplace= True )\n",
    "fmmgen"
   ]
  },
  {
   "cell_type": "code",
   "execution_count": null,
   "id": "6b84f73c",
   "metadata": {},
   "outputs": [],
   "source": [
    "uniquessum = pd.unique(fmmgen[['1', '10', '20', '30', '40', '50', '60', '70', '80', '90', '100', 'до 900 pix вкл', 'до 1200 pix вкл', 'до 3000 pix вкл', 'До 3,5 x 4,5 см', 'До 7,5 x 10,5 см', 'До 10,5 x 15 см', 'До 15 x 21 см', 'До 21 x 30 см', 'До 30 x 421 см',\n",
    "                              '1/8', '1/4', '1/2', '1/1', '2/1', 'Стоимость за единицу', 'Стоимость за единицу партнеры']]. values.ravel ())\n",
    "print (\"Уникальные значения вариантов цен\", len (uniquessum))"
   ]
  },
  {
   "cell_type": "code",
   "execution_count": null,
   "id": "a8f69868",
   "metadata": {},
   "outputs": [],
   "source": [
    "fmm=pd.concat([fmm1copy, fmm2copy, fmm3copy, fmm4copy, fmm5_1copy], sort=False)\n",
    "fmm"
   ]
  },
  {
   "cell_type": "code",
   "execution_count": null,
   "id": "1ed5c796",
   "metadata": {},
   "outputs": [],
   "source": [
    "with plt.xkcd():\n",
    "   \n",
    " plt.figure(figsize=(22, 8), dpi=200)\n",
    "\n",
    " sns.rugplot(data = fmm, x = \"min\", height=0.2, color='purple', expand_margins=True, linewidth=2)\n",
    " plt.xlabel('Стоимость, rub', size=20)\n",
    " plt.yticks([])\n",
    " plt.xticks(np.arange(500, 175000, 10000), size=15) \n",
    " plt.title('Распределение min стоимости по категории \"Применение и количество контента\" из раздела \"Фотобанк СМИ\"', size=20)\n",
    "\n",
    " plt.savefig('/Users/matveeva_oa/Documents/Price2024/fmmmin.svg')"
   ]
  },
  {
   "cell_type": "code",
   "execution_count": null,
   "id": "2502eab4",
   "metadata": {},
   "outputs": [],
   "source": [
    "with plt.xkcd():\n",
    "   \n",
    " plt.figure(figsize=(22, 8), dpi=200)\n",
    "\n",
    " sns.rugplot(data = fmm, x = \"max\", height=0.2, color='blue', expand_margins=True, linewidth=2)\n",
    " plt.xlabel('Стоимость, rub', size=20)\n",
    " plt.yticks([])\n",
    " plt.xticks(np.arange(700, 245000, 10000), size=15) \n",
    " plt.title('Распределение max стоимости по категории \"Применение и количество контента\" из раздела \"Фотобанк СМИ\"', size=20)\n",
    "\n",
    " plt.savefig('/Users/matveeva_oa/Documents/Price2024/fmmmax.svg')"
   ]
  },
  {
   "cell_type": "code",
   "execution_count": null,
   "id": "e635990b",
   "metadata": {},
   "outputs": [],
   "source": []
  }
 ],
 "metadata": {
  "kernelspec": {
   "display_name": "Python 3 (ipykernel)",
   "language": "python",
   "name": "python3"
  },
  "language_info": {
   "codemirror_mode": {
    "name": "ipython",
    "version": 3
   },
   "file_extension": ".py",
   "mimetype": "text/x-python",
   "name": "python",
   "nbconvert_exporter": "python",
   "pygments_lexer": "ipython3",
   "version": "3.11.5"
  }
 },
 "nbformat": 4,
 "nbformat_minor": 5
}
