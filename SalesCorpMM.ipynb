{
 "cells": [
  {
   "cell_type": "code",
   "execution_count": null,
   "id": "f17878b2",
   "metadata": {},
   "outputs": [],
   "source": [
    "import pandas as pd\n",
    "import numpy as np\n",
    "import seaborn as sns\n",
    "import matplotlib.pyplot as plt\n",
    "import tables\n",
    "import sidetable"
   ]
  },
  {
   "cell_type": "code",
   "execution_count": null,
   "id": "878d0158",
   "metadata": {},
   "outputs": [],
   "source": [
    "sales = pd.read_csv(\"/Users/matveeva_oa/Documents/Price2024/sales.csv\", \n",
    "        names=['Документ согласования', 'Номер документа', 'Дата', 'ID Фото', 'Формат использования', \n",
    "               'Способ использования', 'Вид произведения', 'Характеристики поизведения', 'Формат', 'Стоимость'], \n",
    "                index_col=0, skiprows=1)\n",
    "\n",
    "sales"
   ]
  },
  {
   "cell_type": "code",
   "execution_count": null,
   "id": "c38a524d",
   "metadata": {},
   "outputs": [],
   "source": [
    "sales1 = sales.rename(columns={'Документ согласования': 'Номер документа', 'Номер документа': 'Дата', \n",
    "            'Дата': 'ID фото', 'ID Фото': 'Формат использования', 'Формат использования': 'Способ использования', \n",
    "            'Способ использования': 'Вид произведения', 'Вид произведения': 'Характеристики произведения', \n",
    "            'Характеристики произведения': 'Формат', 'Формат': 'Стоимость', 'Стоимость': 'Количество'})\n",
    "\n",
    "pd.set_option('display.max_rows', None) \n",
    "pd.set_option ('display.max_columns', None)\n",
    "\n",
    "sales1"
   ]
  },
  {
   "cell_type": "code",
   "execution_count": null,
   "id": "5f6ffa63",
   "metadata": {},
   "outputs": [],
   "source": [
    "sales1.info()"
   ]
  },
  {
   "cell_type": "code",
   "execution_count": null,
   "id": "cf4bb631",
   "metadata": {},
   "outputs": [],
   "source": [
    "sales1.isnull().sum()"
   ]
  },
  {
   "cell_type": "code",
   "execution_count": null,
   "id": "678f92de",
   "metadata": {},
   "outputs": [],
   "source": [
    "plt.figure(figsize=(200, 100), dpi=100)\n",
    "plt.title('Варианты формата использования', size=200)\n",
    "plt.xticks(size=80, rotation=90) \n",
    "plt.ylabel('Count', size=150)\n",
    "plt.yticks(np.arange(0, 800, 50), size=80) \n",
    "\n",
    "sns.countplot(x=\"Формат использования\", data=sales1)\n",
    "\n",
    "plt.show()\n",
    "\n",
    "plt.savefig('/Users/matveeva_oa/Documents/Price2024/format.svg')\n",
    " "
   ]
  },
  {
   "cell_type": "code",
   "execution_count": null,
   "id": "0b99c73c",
   "metadata": {},
   "outputs": [],
   "source": [
    "ft=sales1['Формат использования'].value_counts()\n",
    "ft.to_excel (\"/Users/matveeva_oa/Documents/Price2024/ft.xlsx\")"
   ]
  },
  {
   "cell_type": "code",
   "execution_count": null,
   "id": "a35c65bf",
   "metadata": {},
   "outputs": [],
   "source": [
    "plt.figure(figsize=(200, 100), dpi=100)\n",
    "plt.title('Варианты способов использования', size=200)\n",
    "plt.xticks(size=80, rotation=90) \n",
    "plt.ylabel('Count', size=150)\n",
    "plt.yticks(np.arange(0, 5400, 500), size=80) \n",
    "\n",
    "sns.countplot(x=\"Способ использования\", data=sales1)\n",
    "\n",
    "plt.show()\n",
    "\n",
    "plt.savefig('/Users/matveeva_oa/Documents/Price2024/methodofuse.svg')\n",
    "\n",
    " "
   ]
  },
  {
   "cell_type": "code",
   "execution_count": null,
   "id": "681e751e",
   "metadata": {},
   "outputs": [],
   "source": [
    "wt=sales1['Способ использования'].value_counts()\n",
    "wt.to_excel (\"/Users/matveeva_oa/Documents/Price2024/wt.xlsx\")"
   ]
  },
  {
   "cell_type": "code",
   "execution_count": null,
   "id": "b2ad2be3",
   "metadata": {},
   "outputs": [],
   "source": [
    "pivot=sales1.groupby(['Способ использования', 'Формат использования']).agg({'Количество': 'sum'}).stb.subtotal()\n",
    "\n",
    "pivot"
   ]
  },
  {
   "cell_type": "code",
   "execution_count": null,
   "id": "b3a95e35",
   "metadata": {},
   "outputs": [],
   "source": [
    "pivot.to_excel (\"/Users/matveeva_oa/Documents/Price2024/mydata.xlsx\")"
   ]
  }
 ],
 "metadata": {
  "kernelspec": {
   "display_name": "Python 3 (ipykernel)",
   "language": "python",
   "name": "python3"
  },
  "language_info": {
   "codemirror_mode": {
    "name": "ipython",
    "version": 3
   },
   "file_extension": ".py",
   "mimetype": "text/x-python",
   "name": "python",
   "nbconvert_exporter": "python",
   "pygments_lexer": "ipython3",
   "version": "3.11.5"
  }
 },
 "nbformat": 4,
 "nbformat_minor": 5
}
