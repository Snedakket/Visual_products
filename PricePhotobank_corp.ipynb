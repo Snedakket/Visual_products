{
 "cells": [
  {
   "cell_type": "code",
   "execution_count": null,
   "id": "c3061e17",
   "metadata": {},
   "outputs": [],
   "source": [
    "import pandas as pd\n",
    "import numpy as np\n",
    "import seaborn as sns\n",
    "import matplotlib.pyplot as plt\n",
    "\n",
    "pd.options.mode.copy_on_write = True #При копировании данных идет только копирование указателя на данные, \n",
    "                                     #но не их фактическое копирование, оригинал и копия ссылаются на одни и те же данные"
   ]
  },
  {
   "cell_type": "code",
   "execution_count": null,
   "id": "602f800a",
   "metadata": {},
   "outputs": [],
   "source": [
    "fc1_1 = pd.read_csv(\"/Users/matveeva_oa/Documents/Price2024/fcorp1_1.csv\", on_bad_lines='skip', delimiter=',',\n",
    "      skiprows=1, names=['Формат', 'А9', 'А8', 'А7', 'А6', 'А5', 'А4', 'А3'], index_col=0)"
   ]
  },
  {
   "cell_type": "code",
   "execution_count": null,
   "id": "8e407910",
   "metadata": {},
   "outputs": [],
   "source": [
    "pd.set_option('display.max_rows', None) \n",
    "pd.set_option ('display.max_columns', None)\n",
    "fc1_1"
   ]
  },
  {
   "cell_type": "code",
   "execution_count": null,
   "id": "c951b1cf",
   "metadata": {},
   "outputs": [],
   "source": [
    "fc1_1[['А9', 'А8', 'А7', 'А6', 'А5', 'А4', 'А3']] = fc1_1[['А9', 'А8', 'А7', 'А6', 'А5', 'А4', 'А3']].replace(',', '', regex=True)\n",
    "fc1_1[['А9', 'А8', 'А7', 'А6', 'А5', 'А4', 'А3']] = fc1_1[['А9', 'А8', 'А7', 'А6', 'А5', 'А4', 'А3']].astype(float)\n",
    "\n",
    "fc1_1.describe()"
   ]
  },
  {
   "cell_type": "code",
   "execution_count": null,
   "id": "37abb291",
   "metadata": {},
   "outputs": [],
   "source": [
    "with plt.xkcd():\n",
    "   \n",
    " plt.figure(figsize=(30, 15), dpi=200)\n",
    "    \n",
    " plt.hist(fc1_1['А9'], label='Формат A9', histtype='step', color='silver', linewidth=13.0, density=False)\n",
    " plt.hist(fc1_1['А8'], label='Формат A8', histtype='step', color='olive', linewidth=8.0, density=False)\n",
    " plt.hist(fc1_1['А7'], label='Формат A7', histtype='step', color='skyblue', linewidth=18.0, density=False)\n",
    " plt.hist(fc1_1['А6'], label='Формат A6', histtype='step', color='blue', linewidth=7.0, density=False)\n",
    " plt.hist(fc1_1['А5'], label='Формат A5', histtype='step', color='red', linewidth=10.0, density=False)\n",
    " plt.hist(fc1_1['А4'], label='Формат A4', histtype='step', color='darkorange', linewidth=8.0, density=False)\n",
    " plt.hist(fc1_1['А3'], label='Формат А3', histtype='barstacked', color='lawngreen', rwidth=1, density=False)\n",
    "\n",
    " plt.xticks(np.arange(2500, 12000, 500), size=15) \n",
    " plt.legend(loc=\"upper right\", fontsize=15)\n",
    " plt.xlabel('Стоимость, rub', size=20)\n",
    " plt.yticks([])\n",
    " plt.title('Корпоративный фотобанк. Распределение стоимости формата(A3-A9)-коммерческие проекты: плакат, листовка, постер, открытка, этикетка',\n",
    "          size=20)\n",
    " plt.savefig('/Users/matveeva_oa/Documents/Price2024/fc1_1.svg')"
   ]
  },
  {
   "cell_type": "code",
   "execution_count": null,
   "id": "7ab23260",
   "metadata": {},
   "outputs": [],
   "source": [
    "total_cells = np.product(fc1_1.shape)\n",
    "uniques1_1 = pd.unique(fc1_1[['А9', 'А8', 'А7', 'А6', 'А5', 'А4', 'А3']]. values.ravel ())\n",
    "\n",
    "print(\"Общее количество вариантов цен по категориям - коммерческие проекты: плакат, листовка, постер, открытка, этикетка  -\", total_cells)\n",
    "print(\"Уникальные значения вариантов по категориям - коммерческие проекты: плакат, листовка, постер, открытка, этикетка -\", len (uniques1_1))"
   ]
  },
  {
   "cell_type": "code",
   "execution_count": null,
   "id": "60d65f62",
   "metadata": {},
   "outputs": [],
   "source": [
    "fc1_1['min'] = fc1_1.min(axis=1)\n",
    "fc1_1['max'] = fc1_1.max(axis=1)\n",
    "fc1_1['price diff in %']= 100 - (fc1_1['min'] / fc1_1['max'])*100\n",
    "fc1_1['quantile 25%'] =np.percentile(fc1_1, 25, axis=1)\n",
    "fc1_1['mediana'] =np.percentile(fc1_1, 50, axis=1)\n",
    "fc1_1['quantile 75%'] =np.percentile(fc1_1, 75, axis=1)\n",
    "\n",
    "fc1_1copy=fc1_1.copy(deep=True)\n",
    "fc1_1copy.drop(['А9', 'А8', 'А7', 'А6', 'А5', 'А4', 'А3'], axis= 1 , inplace= True )\n",
    "fc1_1copy"
   ]
  },
  {
   "cell_type": "code",
   "execution_count": null,
   "id": "4b2a0de7",
   "metadata": {},
   "outputs": [],
   "source": [
    "fc1_2 = pd.read_csv(\"/Users/matveeva_oa/Documents/Price2024/fcorp1_2.csv\", on_bad_lines='skip', delimiter=',',\n",
    "      skiprows=1, names=['Формат', 'А9', 'А8', 'А7', 'А6', 'А5', 'А4', 'А3'], index_col=0)"
   ]
  },
  {
   "cell_type": "code",
   "execution_count": null,
   "id": "fe77c0d5",
   "metadata": {},
   "outputs": [],
   "source": [
    "pd.set_option('display.max_rows', None) \n",
    "pd.set_option ('display.max_columns', None)\n",
    "fc1_2"
   ]
  },
  {
   "cell_type": "code",
   "execution_count": null,
   "id": "18e321cd",
   "metadata": {},
   "outputs": [],
   "source": [
    "fc1_2[['А9', 'А8', 'А7', 'А6', 'А5', 'А4', 'А3']] = fc1_2[['А9', 'А8', 'А7', 'А6', 'А5', 'А4', 'А3']].replace(',', '', regex=True)\n",
    "fc1_2[['А9', 'А8', 'А7', 'А6', 'А5', 'А4', 'А3']] = fc1_2[['А9', 'А8', 'А7', 'А6', 'А5', 'А4', 'А3']].astype(float)\n",
    "\n",
    "fc1_2.describe()"
   ]
  },
  {
   "cell_type": "code",
   "execution_count": null,
   "id": "de83c791",
   "metadata": {},
   "outputs": [],
   "source": [
    "with plt.xkcd():\n",
    "   \n",
    " plt.figure(figsize=(30, 15), dpi=200)\n",
    "    \n",
    " plt.hist(fc1_2['А9'], label='Формат A9', histtype='step', color='silver', linewidth=15.0, density=False)\n",
    " plt.hist(fc1_2['А8'], label='Формат A8', histtype='step', color='olive', linewidth=11.0, density=False)\n",
    " plt.hist(fc1_2['А7'], label='Формат A7', histtype='step', color='skyblue', linewidth=10.0, density=False)\n",
    " plt.hist(fc1_2['А6'], label='Формат A6', histtype='step', color='blue', linewidth=9.0, density=False)\n",
    " plt.hist(fc1_2['А5'], label='Формат A5', histtype='step', color='red', linewidth=8.0, density=False)\n",
    " plt.hist(fc1_2['А4'], label='Формат A4', histtype='step', color='darkorange', linewidth=7.0, density=False)\n",
    " plt.hist(fc1_2['А3'], label='Формат А3', histtype='barstacked', color='lawngreen', rwidth=1, density=False)\n",
    "\n",
    " plt.xticks(np.arange(900, 5000, 100), size=15) \n",
    " plt.legend(loc=\"upper right\", fontsize=15)\n",
    " plt.xlabel('Стоимость, rub', size=20)\n",
    " plt.yticks([])\n",
    " plt.title('Корпоративный фотобанк. Распределение стоимости формата(A3-A9) для книг, каталога, буклета, брошюр, отчета',\n",
    "          size=20)\n",
    " plt.savefig('/Users/matveeva_oa/Documents/Price2024/fc1_2.svg')"
   ]
  },
  {
   "cell_type": "code",
   "execution_count": null,
   "id": "32ff9173",
   "metadata": {},
   "outputs": [],
   "source": [
    "total_cells = np.product(fc1_2.shape)\n",
    "uniques1_2 = pd.unique(fc1_2[['А9', 'А8', 'А7', 'А6', 'А5', 'А4', 'А3']]. values.ravel ())\n",
    "\n",
    "print(\"Общее количество вариантов цен по категориям - для книг, каталога, буклета, брошюр, отчета  -\", total_cells)\n",
    "print(\"Уникальные значения вариантов по категориям - для книг, каталога, буклета, брошюр, отчета  -\", len (uniques1_2))"
   ]
  },
  {
   "cell_type": "code",
   "execution_count": null,
   "id": "547643bd",
   "metadata": {},
   "outputs": [],
   "source": [
    "fc1_2['min'] = fc1_2.min(axis=1)\n",
    "fc1_2['max'] = fc1_2.max(axis=1)\n",
    "fc1_2['price diff in %']= 100 - (fc1_2['min'] / fc1_2['max'])*100\n",
    "fc1_2['quantile 25%'] =np.percentile(fc1_2, 25, axis=1)\n",
    "fc1_2['mediana'] =np.percentile(fc1_2, 50, axis=1)\n",
    "fc1_2['quantile 75%'] =np.percentile(fc1_2, 75, axis=1)\n",
    "\n",
    "fc1_2copy=fc1_2.copy(deep=True)\n",
    "fc1_2copy.drop(['А9', 'А8', 'А7', 'А6', 'А5', 'А4', 'А3'], axis= 1 , inplace= True )\n",
    "fc1_2copy"
   ]
  },
  {
   "cell_type": "code",
   "execution_count": null,
   "id": "1f414025",
   "metadata": {},
   "outputs": [],
   "source": [
    "fc2 = pd.read_csv(\"/Users/matveeva_oa/Documents/Price2024/fcorp2.csv\", on_bad_lines='skip',\n",
    "                 index_col=0, delimiter=',', skiprows=1, names=['Формат для рекл. исп.', '1/8', '1/4', '1/2', '1/1'])"
   ]
  },
  {
   "cell_type": "code",
   "execution_count": null,
   "id": "52300967",
   "metadata": {},
   "outputs": [],
   "source": [
    "pd.set_option('display.max_rows', None) \n",
    "pd.set_option ('display.max_columns', None)\n",
    "fc2"
   ]
  },
  {
   "cell_type": "code",
   "execution_count": null,
   "id": "61bd21ab",
   "metadata": {},
   "outputs": [],
   "source": [
    "fc2[['1/8', '1/4', '1/2', '1/1']] = fc2[['1/8', '1/4', '1/2', '1/1']].replace(',', '', regex=True)\n",
    "fc2[['1/8', '1/4', '1/2', '1/1']] = fc2[['1/8', '1/4', '1/2', '1/1']].astype(float)\n",
    "\n",
    "fc2.describe()"
   ]
  },
  {
   "cell_type": "code",
   "execution_count": null,
   "id": "6abc25c2",
   "metadata": {},
   "outputs": [],
   "source": [
    "with plt.xkcd():\n",
    "   \n",
    " plt.figure(figsize=(30, 15), dpi=200)\n",
    "        \n",
    " plt.hist(fc2['1/8'], label='Формат 1/8', histtype='step', color='silver', linewidth=30.0, density=False)\n",
    " plt.hist(fc2['1/4'], label='Формат 1/4', histtype='step', color='olive', linewidth=20.0, density=False)\n",
    " plt.hist(fc2['1/2'], label='Формат 1/2', histtype='step', color='red', linewidth=5.0, density=False)\n",
    " plt.hist(fc2['1/1'], label='Формат 1/1', histtype='barstacked', color='darkorange', rwidth=1, density=False)\n",
    " \n",
    " plt.xlim([1500, 15000])\n",
    " plt.xticks(np.arange(1500, 15000, 500), size=15) \n",
    " plt.legend(loc=\"upper right\", fontsize=15)\n",
    " plt.xlabel('Стоимость, rub', size=20)\n",
    " plt.yticks([])\n",
    " plt.title('Корпоративный фотобанк. Распределение стоимости формата (1/8-1/1) для использования в рекламных модулях', size=20)\n",
    "    \n",
    " plt.savefig('/Users/matveeva_oa/Documents/Price2024/fc2.svg')"
   ]
  },
  {
   "cell_type": "code",
   "execution_count": null,
   "id": "f2bb8a32",
   "metadata": {},
   "outputs": [],
   "source": [
    "total_cells = np.product(fc2.shape)\n",
    "uniques2 = pd.unique(fc2[['1/8', '1/4', '1/2', '1/1']]. values.ravel ())\n",
    "\n",
    "print(\"Общее количество вариантов цен в Редакционных статьях на правах рекламы и в Составе рекламных модулей\", total_cells)\n",
    "print (\"Уникальные значения вариантов цен в Редакционных статьях на правах рекламы и в Составе рекламных модулей\", len (uniques2))"
   ]
  },
  {
   "cell_type": "code",
   "execution_count": null,
   "id": "725261dd",
   "metadata": {},
   "outputs": [],
   "source": [
    "fc2['min'] = fc2.min(axis=1)\n",
    "fc2['max'] = fc2.max(axis=1)\n",
    "\n",
    "fc2['price diff in %']= 100 - (fc2['min'] / fc2['max'])*100\n",
    "fc2['quantile 25%'] =np.percentile(fc2, 25, axis=1)\n",
    "fc2['mediana'] =np.percentile(fc2, 50, axis=1)\n",
    "fc2['quantile 75%'] =np.percentile(fc2, 75, axis=1)\n",
    "\n",
    "fc2copy=fc2.copy(deep=True)\n",
    "fc2copy.drop(['1/8', '1/4', '1/2', '1/1'], axis= 1 , inplace= True )\n",
    "fc2copy"
   ]
  },
  {
   "cell_type": "code",
   "execution_count": null,
   "id": "c1630fde",
   "metadata": {},
   "outputs": [],
   "source": [
    "fc3 = pd.read_csv(\"/Users/matveeva_oa/Documents/Price2024/fcorp3.csv\", on_bad_lines='skip',\n",
    "                 index_col=0, delimiter=',', skiprows=1, names=['Формат для выставок и интерьеров', 'А5', 'А4', 'А3', 'А2', 'А1', 'А0', 'А0х2', 'А0х4'])"
   ]
  },
  {
   "cell_type": "code",
   "execution_count": null,
   "id": "6b536019",
   "metadata": {},
   "outputs": [],
   "source": [
    "pd.set_option('display.max_rows', None) \n",
    "pd.set_option ('display.max_columns', None)\n",
    "fc3"
   ]
  },
  {
   "cell_type": "code",
   "execution_count": null,
   "id": "28d37a19",
   "metadata": {},
   "outputs": [],
   "source": [
    "fc3[['А5', 'А4', 'А3', 'А2', 'А1', 'А0', 'А0х2', 'А0х4']] = fc3[['А5', 'А4', 'А3', 'А2', 'А1', 'А0', 'А0х2', 'А0х4']].replace(',', '', regex=True)\n",
    "fc3[['А5', 'А4', 'А3', 'А2', 'А1', 'А0', 'А0х2', 'А0х4']] = fc3[['А5', 'А4', 'А3', 'А2', 'А1', 'А0', 'А0х2', 'А0х4']].astype(float)\n",
    "fc3.describe()"
   ]
  },
  {
   "cell_type": "code",
   "execution_count": null,
   "id": "f7dd680b",
   "metadata": {},
   "outputs": [],
   "source": [
    "with plt.xkcd():\n",
    "   \n",
    " plt.figure(figsize=(30, 15), dpi=200)\n",
    "        \n",
    " plt.hist(fc3['А5'], label='Формат A5', histtype='barstacked', color='silver', rwidth=1, density=False)\n",
    " plt.hist(fc3['А4'], label='Формат A4', histtype='barstacked', color='olive', rwidth=1, density=False)\n",
    " plt.hist(fc3['А3'], label='Формат A3', histtype='barstacked', color='skyblue', rwidth=1, density=False)\n",
    " plt.hist(fc3['А2'], label='Формат A2', histtype='barstacked', color='blue', rwidth=1, density=False)\n",
    " plt.hist(fc3['А1'], label='Формат A1', histtype='step', color='red', linewidth=5.0, density=False)\n",
    " plt.hist(fc3['А0'], label='Формат A0', histtype='barstacked', color='darkorange', rwidth=1, density=False)\n",
    " plt.hist(fc3['А0х2'], label='Формат А0х2', histtype='step', color='gold', linewidth=8.0, density=False)\n",
    " plt.hist(fc3['А0х4'], label='Формат А0х4', histtype='barstacked', color='darkgreen', rwidth=1, density=False)\n",
    "\n",
    " plt.xlim([3500, 20000])\n",
    " plt.xticks(np.arange(3500, 20000, 500), size=15) \n",
    " plt.legend(loc=\"upper right\", fontsize=15)\n",
    " plt.xlabel('Стоимость, rub', size=20)\n",
    " plt.yticks([])\n",
    " plt.title('Корпоративный фотобанк. Распределение стоимости формата (A5-A0X4) для использования на выставках и в интерьерах', size=20)\n",
    "\n",
    " plt.savefig('/Users/matveeva_oa/Documents/Price2024/fc3.svg')"
   ]
  },
  {
   "cell_type": "code",
   "execution_count": null,
   "id": "f4b29570",
   "metadata": {},
   "outputs": [],
   "source": [
    "total_cells = np.product(fc3.shape)\n",
    "uniques3 = pd.unique(fc3[['А5', 'А4', 'А3', 'А2', 'А1', 'А0', 'А0х2', 'А0х4']]. values.ravel ())\n",
    "\n",
    "print(\"Общее количество вариантов цен для оформления выставок и интерьеров\", total_cells)\n",
    "print (\"Уникальные значения вариантов цен для оформления выставок и интерьеров\", len (uniques3))"
   ]
  },
  {
   "cell_type": "code",
   "execution_count": null,
   "id": "23f2e3a7",
   "metadata": {},
   "outputs": [],
   "source": [
    "fc3['min'] = fc3.min(axis=1)\n",
    "fc3['max'] = fc3.max(axis=1)\n",
    "fc3['price diff in %']= 100 - (fc3['min'] / fc3['max'])*100\n",
    "fc3['quantile 25%'] =np.percentile(fc3, 25, axis=1)\n",
    "fc3['mediana'] =np.percentile(fc3, 50, axis=1)\n",
    "fc3['quantile 75%'] =np.percentile(fc3, 75, axis=1)\n",
    "\n",
    "fc3copy=fc3.copy(deep=True)\n",
    "fc3copy.drop(['А5', 'А4', 'А3', 'А2', 'А1', 'А0', 'А0х2', 'А0х4'], axis= 1 , inplace= True )\n",
    "fc3copy"
   ]
  },
  {
   "cell_type": "code",
   "execution_count": null,
   "id": "f0118b61",
   "metadata": {},
   "outputs": [],
   "source": [
    "fc4 = pd.read_csv(\"/Users/matveeva_oa/Documents/Price2024/fcorp4.csv\", on_bad_lines='skip',\n",
    "                 index_col=0, delimiter=',', skiprows=1, \n",
    "names=['Формат для календарей', 'А5 от 1 до 6 фото', 'А5 от 7 фото', 'А5 от 13 фото', 'А4 от 1 до 6 фото', 'А4 от 7 фото', \n",
    "       'А4 от 13 фото', 'А3 от 1 до 6 фото', 'А3 от 7 фото', 'А3 от 13 фото', 'А2 от 1 до 6 фото', 'А2 от 7 фото',\n",
    "      'А2 от 13 фото'])"
   ]
  },
  {
   "cell_type": "code",
   "execution_count": null,
   "id": "41683307",
   "metadata": {},
   "outputs": [],
   "source": [
    "pd.set_option('display.max_rows', None) \n",
    "pd.set_option ('display.max_columns', None)\n",
    "fc4"
   ]
  },
  {
   "cell_type": "code",
   "execution_count": null,
   "id": "027a9bf1",
   "metadata": {},
   "outputs": [],
   "source": [
    "fc4_1 = fc4.dropna()\n",
    "fc4_1"
   ]
  },
  {
   "cell_type": "code",
   "execution_count": null,
   "id": "12c82ac0",
   "metadata": {},
   "outputs": [],
   "source": [
    "fc4_1[['А5 от 1 до 6 фото', 'А5 от 7 фото', 'А5 от 13 фото', 'А4 от 1 до 6 фото', 'А4 от 7 фото', \n",
    "     'А4 от 13 фото', 'А3 от 1 до 6 фото', 'А3 от 7 фото', 'А3 от 13 фото', 'А2 от 1 до 6 фото', 'А2 от 7 фото',\n",
    "     'А2 от 13 фото']] = fc4_1[['А5 от 1 до 6 фото', 'А5 от 7 фото', 'А5 от 13 фото', 'А4 от 1 до 6 фото', 'А4 от 7 фото', \n",
    "     'А4 от 13 фото', 'А3 от 1 до 6 фото', 'А3 от 7 фото', 'А3 от 13 фото', 'А2 от 1 до 6 фото', 'А2 от 7 фото',\n",
    "     'А2 от 13 фото']].replace(',', '', regex=True)\n",
    "\n",
    "fc4_1[['А5 от 1 до 6 фото', 'А5 от 7 фото', 'А5 от 13 фото', 'А4 от 1 до 6 фото', 'А4 от 7 фото', \n",
    "     'А4 от 13 фото', 'А3 от 1 до 6 фото', 'А3 от 7 фото', 'А3 от 13 фото', 'А2 от 1 до 6 фото', 'А2 от 7 фото',\n",
    "     'А2 от 13 фото']] = fc4_1[['А5 от 1 до 6 фото', 'А5 от 7 фото', 'А5 от 13 фото', 'А4 от 1 до 6 фото', 'А4 от 7 фото', \n",
    "     'А4 от 13 фото', 'А3 от 1 до 6 фото', 'А3 от 7 фото', 'А3 от 13 фото', 'А2 от 1 до 6 фото', 'А2 от 7 фото',\n",
    "     'А2 от 13 фото']].astype(float)\n",
    "\n",
    "fc4_1.describe()"
   ]
  },
  {
   "cell_type": "code",
   "execution_count": null,
   "id": "f54624c9",
   "metadata": {},
   "outputs": [],
   "source": [
    "with plt.xkcd():\n",
    "   \n",
    " plt.figure(figsize=(30, 15), dpi=200)\n",
    "        \n",
    " plt.hist(fc4_1['А5 от 1 до 6 фото'], label='А5 от 1 до 6 фото', histtype='barstacked', color='silver', rwidth=1, density=False)\n",
    " plt.hist(fc4_1['А5 от 7 фото'], label='А5 от 7 фото', histtype='barstacked', color='yellow', rwidth=1, density=False)\n",
    " plt.hist(fc4_1['А5 от 13 фото'], label='А5 от 13 фото', histtype='barstacked', color='teal', rwidth=1, density=False)\n",
    " plt.hist(fc4_1['А4 от 1 до 6 фото'], label='А4 от 1 до 6 фото', histtype='barstacked', color='blue',  rwidth=1, density=False)\n",
    " plt.hist(fc4_1['А4 от 7 фото'], label='А4 от 7 фото', histtype='step', color='red', linewidth=5.0, density=False)\n",
    " plt.hist(fc4_1['А4 от 13 фото'], label='А4 от 13 фото', histtype='step', color='black', linewidth=4.0, density=False)\n",
    " plt.hist(fc4_1['А3 от 1 до 6 фото'], label='А3 от 1 до 6 фото', histtype='barstacked', color='seagreen', rwidth=1, density=False)\n",
    " plt.hist(fc4_1['А3 от 7 фото'], label='А3 от 7 фото', histtype='step', color='magenta', linewidth=3.0, density=False)\n",
    " plt.hist(fc4_1['А3 от 13 фото'], label='А3 от 13 фото', histtype='step', color='darkorchid', linewidth=8.0, density=False)\n",
    " plt.hist(fc4_1['А2 от 1 до 6 фото'], label='А2 от 1 до 6 фото', histtype='barstacked', color='darkorange', rwidth=1, density=False)\n",
    " plt.hist(fc4_1['А2 от 7 фото'], label='А2 от 7 фото', histtype='barstacked', color='lawngreen', rwidth=1, density=False)\n",
    " plt.hist(fc4_1['А2 от 13 фото'], label='А2 от 13 фото', histtype='barstacked', color='chocolate', rwidth=1, density=False)   \n",
    "    \n",
    " plt.xlim([1500, 6500])\n",
    " plt.xticks(np.arange(1500, 6500, 250), size=15) \n",
    " plt.legend(loc=\"upper right\", fontsize=15)\n",
    " plt.xlabel('Стоимость, rub', size=20)\n",
    " plt.yticks([])\n",
    " plt.title('Корпоративный фотобанк. Распределение стоимости формата (A5-A2) для календарей', size=20)\n",
    "    \n",
    " plt.savefig('/Users/matveeva_oa/Documents/Price2024/fc4_1.svg')"
   ]
  },
  {
   "cell_type": "code",
   "execution_count": null,
   "id": "039038fe",
   "metadata": {},
   "outputs": [],
   "source": [
    "total_cells = np.product(fc4_1.shape)\n",
    "uniques4 = pd.unique(fc4_1[['А5 от 1 до 6 фото', 'А5 от 7 фото', 'А5 от 13 фото', 'А4 от 1 до 6 фото', 'А4 от 7 фото', 'А4 от 13 фото', \n",
    "     'А3 от 1 до 6 фото', 'А3 от 7 фото', 'А3 от 13 фото', 'А2 от 1 до 6 фото', 'А2 от 7 фото', 'А2 от 13 фото']]. values.ravel ())\n",
    "\n",
    "print(\"Общее количество вариантов цен для календарной продукции\", total_cells)\n",
    "print (\"Уникальные значения вариантов цен для календарной продукции\", len (uniques4))"
   ]
  },
  {
   "cell_type": "code",
   "execution_count": null,
   "id": "9061f1c8",
   "metadata": {},
   "outputs": [],
   "source": [
    "pd.options.mode.copy_on_write = True\n",
    "fc4_1['min'] = fc4_1.min(axis=1)\n",
    "fc4_1['max'] = fc4_1.max(axis=1)\n",
    "fc4_1['price diff in %']= 100 - (fc4_1['min'] / fc4_1['max'])*100\n",
    "fc4_1['quantile 25%'] =np.percentile(fc4_1, 25, axis=1)\n",
    "fc4_1['mediana'] =np.percentile(fc4_1, 50, axis=1)\n",
    "fc4_1['quantile 75%'] =np.percentile(fc4_1, 75, axis=1)\n",
    "\n",
    "fc4_1copy=fc4_1.copy(deep=True)\n",
    "fc4_1copy.drop (['А5 от 1 до 6 фото', 'А5 от 7 фото', 'А5 от 13 фото', 'А4 от 1 до 6 фото', 'А4 от 7 фото', 'А4 от 13 фото', \n",
    "     'А3 от 1 до 6 фото', 'А3 от 7 фото', 'А3 от 13 фото', 'А2 от 1 до 6 фото', 'А2 от 7 фото', 'А2 от 13 фото'], axis= 1 , inplace= True)\n",
    "fc4_1copy"
   ]
  },
  {
   "cell_type": "code",
   "execution_count": null,
   "id": "16fb3090",
   "metadata": {},
   "outputs": [],
   "source": [
    "fc5 = pd.read_csv(\"/Users/matveeva_oa/Documents/Price2024/fcorp5.csv\", on_bad_lines='skip',\n",
    "                 index_col=0, delimiter=',', skiprows=1, names=['Формат для витрин, наружной рекламы, билбордов', '2 м2', '4 м2', '6 м2', '9 м2', '12 м2', '18 м2'])"
   ]
  },
  {
   "cell_type": "code",
   "execution_count": null,
   "id": "5e1d8219",
   "metadata": {},
   "outputs": [],
   "source": [
    "pd.set_option('display.max_rows', None) \n",
    "pd.set_option ('display.max_columns', None)\n",
    "fc5"
   ]
  },
  {
   "cell_type": "code",
   "execution_count": null,
   "id": "204f1b91",
   "metadata": {},
   "outputs": [],
   "source": [
    "fc5[['2 м2', '4 м2', '6 м2', '9 м2', '12 м2', '18 м2']] = fc5[['2 м2', '4 м2', '6 м2', '9 м2', '12 м2', '18 м2']].replace(',', '', regex=True)\n",
    "fc5[['2 м2', '4 м2', '6 м2', '9 м2', '12 м2', '18 м2']] = fc5[['2 м2', '4 м2', '6 м2', '9 м2', '12 м2', '18 м2']].astype(float)\n",
    "\n",
    "fc5.describe()"
   ]
  },
  {
   "cell_type": "code",
   "execution_count": null,
   "id": "74132f93",
   "metadata": {},
   "outputs": [],
   "source": [
    "with plt.xkcd():\n",
    "   \n",
    " plt.figure(figsize=(30, 15), dpi=200)\n",
    "        \n",
    " plt.hist(fc5['2 м2'], label='2 м2', histtype='barstacked', color='silver', rwidth=1, density=False)\n",
    " plt.hist(fc5['4 м2'], label='4 м2', histtype='step', color='olive', linewidth=20.0, density=False)\n",
    " plt.hist(fc5['6 м2'], label='6 м2', histtype='step', color='blue', linewidth=9.0, density=False)\n",
    " plt.hist(fc5['9 м2'], label='9 м2', histtype='step', color='darkorange', linewidth=10.0, density=False)\n",
    " plt.hist(fc5['12 м2'], label='12 м2', histtype='step', color='maroon', linewidth=5.0, density=False)\n",
    " plt.hist(fc5['18 м2'], label='18 м2', histtype='step', color='lime', linewidth=3.0, density=False)\n",
    " \n",
    " plt.xlim([7000, 20000])\n",
    " plt.xticks(np.arange(7000, 20000, 500), size=15) \n",
    " plt.legend(loc=\"upper right\", fontsize=15)\n",
    " plt.xlabel('Стоимость, rub', size=20)\n",
    " plt.yticks([])\n",
    " plt.title('Корпоративный фотобанк. Распределение стоимости формата витрин, наружной рекламы, билбордов', size=20)\n",
    "\n",
    " plt.savefig('/Users/matveeva_oa/Documents/Price2024/fc5.svg')"
   ]
  },
  {
   "cell_type": "code",
   "execution_count": null,
   "id": "01997a9a",
   "metadata": {},
   "outputs": [],
   "source": [
    "total_cells = np.product(fc5.shape) \n",
    "uniques5 = pd.unique(fc5[['2 м2', '4 м2', '6 м2', '9 м2', '12 м2', '18 м2']]. values.ravel ())\n",
    "\n",
    "print(\"Общее количество вариантов цен для витрин, наружной рекламы, билбордов\", total_cells)\n",
    "print (\"Уникальные значения вариантов цен для витрин, наружной рекламы, билбордов\", len (uniques5))"
   ]
  },
  {
   "cell_type": "code",
   "execution_count": null,
   "id": "7aff8422",
   "metadata": {},
   "outputs": [],
   "source": [
    "fc5['min'] = fc5.min(axis=1)\n",
    "fc5['max'] = fc5.max(axis=1)\n",
    "fc5['price diff in %']= 100 - (fc5['min'] / fc5['max'])*100\n",
    "fc5['quantile 25%'] =np.percentile(fc5, 25, axis=1)\n",
    "fc5['mediana'] =np.percentile(fc5, 50, axis=1)\n",
    "fc5['quantile 75%'] =np.percentile(fc5, 75, axis=1)\n",
    "\n",
    "fc5copy=fc5.copy(deep=True)\n",
    "fc5copy.drop(['2 м2', '4 м2', '6 м2', '9 м2', '12 м2', '18 м2'], axis= 1 , inplace= True )\n",
    "fc5copy"
   ]
  },
  {
   "cell_type": "code",
   "execution_count": null,
   "id": "19e2b229",
   "metadata": {},
   "outputs": [],
   "source": [
    "fc6 = pd.read_csv(\"/Users/matveeva_oa/Documents/Price2024/fcorp6.csv\", on_bad_lines='skip', index_col=0, \n",
    "      delimiter=',', skiprows=1, names=['Формат для интернет-СМИ, корп. реклам. испол. в интернет', '380 pix', '480 pix', '600 pix', '900 pix', '1200 pix'])"
   ]
  },
  {
   "cell_type": "code",
   "execution_count": null,
   "id": "5d3ad8ad",
   "metadata": {},
   "outputs": [],
   "source": [
    "pd.set_option('display.max_rows', None) \n",
    "pd.set_option ('display.max_columns', None)\n",
    "fc6"
   ]
  },
  {
   "cell_type": "code",
   "execution_count": null,
   "id": "29fa53f4",
   "metadata": {},
   "outputs": [],
   "source": [
    "fc6_1 = fc6.dropna()\n",
    "fc6_1"
   ]
  },
  {
   "cell_type": "code",
   "execution_count": null,
   "id": "10c4015d",
   "metadata": {},
   "outputs": [],
   "source": [
    "fc6_1[['380 pix', '480 pix', '600 pix', '900 pix', '1200 pix']] = fc6_1[['380 pix', '480 pix', '600 pix', '900 pix', '1200 pix']].replace(',', '', regex=True)\n",
    "fc6_1[['380 pix', '480 pix', '600 pix', '900 pix', '1200 pix']] = fc6_1[['380 pix', '480 pix', '600 pix', '900 pix', '1200 pix']].astype(float)\n",
    "fc6_1.describe()"
   ]
  },
  {
   "cell_type": "code",
   "execution_count": null,
   "id": "baa540d6",
   "metadata": {},
   "outputs": [],
   "source": [
    "with plt.xkcd():\n",
    "   \n",
    " plt.figure(figsize=(30, 15), dpi=200)\n",
    "\n",
    " plt.hist(fc6_1['380 pix'], label='380 pix', histtype='barstacked', color='blue', rwidth=1, density=False)\n",
    " plt.hist(fc6_1['480 pix'], label='480 pix', histtype='barstacked', color='olive', rwidth=1, density=False)\n",
    " plt.hist(fc6_1['600 pix'], label='600 pix', histtype='barstacked', color='red', rwidth=1, density=False)\n",
    " plt.hist(fc6_1['900 pix'], label='900 pix', histtype='barstacked', color='darkorange', rwidth=1, density=False)\n",
    " plt.hist(fc6_1['1200 pix'], label='1200 pix', histtype='barstacked', color='lawngreen', rwidth=1, density=False)\n",
    " \n",
    " plt.xlim([900, 4500])\n",
    " plt.xticks(np.arange(900, 4500, 100), size=15) \n",
    " plt.legend(loc=\"upper right\", fontsize=15)\n",
    " plt.xlabel('Стоимость, rub', size=20)\n",
    " plt.yticks([])\n",
    " plt.title('Корпоративный фотобанк. Распределение стоимости формата для использования в интернет-СМИ, корп. реклам, использования в интернет', size=20)\n",
    "\n",
    " plt.savefig('/Users/matveeva_oa/Documents/Price2024/fc6_1.svg')"
   ]
  },
  {
   "cell_type": "code",
   "execution_count": null,
   "id": "e1241d7e",
   "metadata": {},
   "outputs": [],
   "source": [
    "total_cells = np.product(fc6_1.shape)\n",
    "uniques6 = pd.unique(fc6_1[['380 pix', '480 pix', '600 pix', '900 pix', '1200 pix']]. values.ravel ())\n",
    "\n",
    "print(\"Общее количество вариантов цен для интернет-СМИ, корп. рекламного использования в интернет\", total_cells)\n",
    "print (\"Уникальные значения вариантов цен для интернет-СМИ, корп. рекламного использования в интернет\", len (uniques6))"
   ]
  },
  {
   "cell_type": "code",
   "execution_count": null,
   "id": "1377c4e9",
   "metadata": {},
   "outputs": [],
   "source": [
    "fc6_1['min'] = fc6_1.min(axis=1)\n",
    "fc6_1['max'] = fc6_1.max(axis=1)\n",
    "fc6_1['price diff in %']= 100 - (fc6_1['min'] / fc6_1['max'])*100\n",
    "fc6_1['quantile 25%'] =np.percentile(fc6_1, 25, axis=1)\n",
    "fc6_1['mediana'] =np.percentile(fc6_1, 50, axis=1)\n",
    "fc6_1['quantile 75%'] =np.percentile(fc6_1, 75, axis=1)\n",
    "\n",
    "fc6_1copy=fc6_1.copy(deep=True)\n",
    "fc6_1copy.drop(['380 pix', '480 pix', '600 pix', '900 pix', '1200 pix'], axis= 1 , inplace= True )\n",
    "fc6_1copy"
   ]
  },
  {
   "cell_type": "code",
   "execution_count": null,
   "id": "5cdd3190",
   "metadata": {},
   "outputs": [],
   "source": [
    "fcgen=pd.concat([fc1_1, fc1_2, fc2, fc3, fc4_1, fc5, fc6_1], sort=False, axis=0)\n",
    "fcgen.drop(['min', 'max', 'price diff in %', 'quantile 25%', 'mediana', 'quantile 75%'], axis= 1 , inplace= True )\n",
    "fcgen"
   ]
  },
  {
   "cell_type": "code",
   "execution_count": null,
   "id": "80a5b60f",
   "metadata": {},
   "outputs": [],
   "source": [
    "uniquessum = pd.unique(fcgen[['380 pix', '480 pix', '600 pix', '900 pix', '1200 pix', 'А9', 'А8', 'А7', 'А6', 'А5', 'А4', 'А3', \n",
    "                '1/8', '1/4', '1/2', '1/1', 'А5', 'А4', 'А3', 'А2', 'А1', 'А0', 'А0х2', 'А0х4', 'А5 от 1 до 6 фото', \n",
    "                'А5 от 7 фото', 'А5 от 13 фото', 'А4 от 1 до 6 фото', 'А4 от 7 фото', 'А4 от 13 фото', 'А3 от 1 до 6 фото', \n",
    "                'А3 от 7 фото', 'А3 от 13 фото', 'А2 от 1 до 6 фото', 'А2 от 7 фото', 'А2 от 13 фото', '2 м2', '4 м2', \n",
    "                '6 м2', '9 м2', '12 м2', '18 м2']]. values.ravel ())\n",
    "print (\"Уникальные значения вариантов цен\", len (uniquessum))"
   ]
  },
  {
   "cell_type": "code",
   "execution_count": null,
   "id": "eee98eb4",
   "metadata": {},
   "outputs": [],
   "source": [
    "fc=pd.concat([fc1_1copy, fc1_2copy, fc2copy, fc3copy, fc4_1copy, fc5copy, fc6_1copy], sort=False)\n",
    "fc"
   ]
  },
  {
   "cell_type": "code",
   "execution_count": null,
   "id": "51b8696f",
   "metadata": {
    "scrolled": false
   },
   "outputs": [],
   "source": [
    "with plt.xkcd():\n",
    "   \n",
    " plt.figure(figsize=(22, 8), dpi=200)\n",
    "\n",
    " sns.rugplot(data = fc, x = \"min\", height=0.2, color='purple', expand_margins=True, linewidth=5)\n",
    " plt.xlabel('Стоимость, rub', size=20)\n",
    " plt.yticks([])\n",
    " plt.xticks(np.arange(900, 12500, 1000), size=15) \n",
    " plt.title('Распределение min стоимости по категории \"Применение и количество контента\" из раздела \"Корпоративный фотобанк\"', size=20)\n",
    "\n",
    " plt.savefig('/Users/matveeva_oa/Documents/Price2024/fcmin.svg')\n"
   ]
  },
  {
   "cell_type": "code",
   "execution_count": null,
   "id": "8d916232",
   "metadata": {},
   "outputs": [],
   "source": [
    "with plt.xkcd():\n",
    "   \n",
    " plt.figure(figsize=(22, 8), dpi=200)\n",
    "\n",
    " sns.rugplot(data = fc, x = \"max\", height=0.2, color='crimson', expand_margins=True, linewidth=5)\n",
    " plt.xlabel('Стоимость, rub', size=20)\n",
    " plt.yticks([])\n",
    " plt.xticks(np.arange(2000, 18500, 1000), size=15)\n",
    " plt.title('Распределение max стоимости по категории \"Применение и количество контента\" из раздела \"Корпоративный фотобанк\"', size=20)\n",
    "\n",
    " plt.savefig('/Users/matveeva_oa/Documents/Price2024/fcmax.svg')"
   ]
  },
  {
   "cell_type": "code",
   "execution_count": null,
   "id": "aca5b015",
   "metadata": {},
   "outputs": [],
   "source": []
  }
 ],
 "metadata": {
  "kernelspec": {
   "display_name": "Python 3 (ipykernel)",
   "language": "python",
   "name": "python3"
  },
  "language_info": {
   "codemirror_mode": {
    "name": "ipython",
    "version": 3
   },
   "file_extension": ".py",
   "mimetype": "text/x-python",
   "name": "python",
   "nbconvert_exporter": "python",
   "pygments_lexer": "ipython3",
   "version": "3.11.5"
  }
 },
 "nbformat": 4,
 "nbformat_minor": 5
}
